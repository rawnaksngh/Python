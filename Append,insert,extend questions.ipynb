{
 "cells": [
  {
   "cell_type": "code",
   "execution_count": 7,
   "id": "c5509297-623a-4153-846a-892c2dd3c98a",
   "metadata": {},
   "outputs": [
    {
     "name": "stdout",
     "output_type": "stream",
     "text": [
      "[1, 2, 3, 'Komal', 4, 5, 6, 7, 8, 9]\n"
     ]
    }
   ],
   "source": [
    "L1=[1,2,3,4,5,6,7,8,9,]\n",
    "L1.insert(3,\"Komal\")\n",
    "print(L1)"
   ]
  },
  {
   "cell_type": "code",
   "execution_count": 13,
   "id": "64b8537f-2aa7-4aca-af94-2e0cd542b65b",
   "metadata": {},
   "outputs": [
    {
     "name": "stdout",
     "output_type": "stream",
     "text": [
      "[1, 2, 3, 4, 5, 'abc']\n"
     ]
    }
   ],
   "source": [
    "L3=[1,2,3,4,5]\n",
    "L3.append(\"abc\")\n",
    "print(L3)"
   ]
  },
  {
   "cell_type": "code",
   "execution_count": 17,
   "id": "275278a9-94ea-44fb-bcaa-3cb0e14ec8bd",
   "metadata": {},
   "outputs": [
    {
     "name": "stdout",
     "output_type": "stream",
     "text": [
      "[1, 2, 3, 4, 5, 6, 7, 8, 9, 10]\n"
     ]
    }
   ],
   "source": [
    "L4=[1,2,3,4,5]\n",
    "L5=[6,7,8,9,10]\n",
    "L4.extend(L5)\n",
    "print(L4)"
   ]
  },
  {
   "cell_type": "code",
   "execution_count": 29,
   "id": "51cafac9-a08c-4309-a1d9-e4559fa4af10",
   "metadata": {},
   "outputs": [
    {
     "name": "stdout",
     "output_type": "stream",
     "text": [
      "['A', 2, 'B', 'C', 5, 'D', 'z', 'E', 2, 'F', 'G', 5, 'H', 'z']\n"
     ]
    }
   ],
   "source": [
    "Study1=[\"A\",\"B\",\"C\",\"D\"]\n",
    "Study2=[\"E\",\"F\",\"G\",\"H\"]\n",
    "Study1.append(\"z\")\n",
    "Study2.append(\"z\")\n",
    "Study1.insert(1,2)\n",
    "Study1.insert(4,5)\n",
    "Study2.insert(1,2)\n",
    "Study2.insert(4,5)\n",
    "Study1.extend(Study2)\n",
    "print(Study1)\n"
   ]
  },
  {
   "cell_type": "code",
   "execution_count": null,
   "id": "08aed44c-f020-4159-8083-6a8cee14b0c2",
   "metadata": {},
   "outputs": [],
   "source": []
  }
 ],
 "metadata": {
  "kernelspec": {
   "display_name": "Python 3 (ipykernel)",
   "language": "python",
   "name": "python3"
  },
  "language_info": {
   "codemirror_mode": {
    "name": "ipython",
    "version": 3
   },
   "file_extension": ".py",
   "mimetype": "text/x-python",
   "name": "python",
   "nbconvert_exporter": "python",
   "pygments_lexer": "ipython3",
   "version": "3.12.4"
  }
 },
 "nbformat": 4,
 "nbformat_minor": 5
}
