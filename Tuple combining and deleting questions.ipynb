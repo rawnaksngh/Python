{
 "cells": [
  {
   "cell_type": "code",
   "execution_count": 1,
   "id": "4ace8309-b70e-4c66-b98e-351dc71b918c",
   "metadata": {},
   "outputs": [
    {
     "name": "stdout",
     "output_type": "stream",
     "text": [
      "('SQL', 'Python', 'Stats', 'Mc', 'Bi', 'Tabloo')\n"
     ]
    }
   ],
   "source": [
    "#Adding new value\n",
    "\n",
    "Course=('SQL','Python','Stats','Mc','Bi')\n",
    "y=list(Course)\n",
    "y.append('Tabloo')\n",
    "Course=tuple(y)\n",
    "print(Course)\n",
    "\n",
    "\n"
   ]
  },
  {
   "cell_type": "code",
   "execution_count": 2,
   "id": "2540a9ac-3968-4b2e-8484-8159ae485631",
   "metadata": {},
   "outputs": [
    {
     "name": "stdout",
     "output_type": "stream",
     "text": [
      "('SQL', 'Python', 'Tabloo', 'Stats', 'Mc', 'Bi')\n"
     ]
    }
   ],
   "source": [
    "Course=('SQL','Python','Stats','Mc','Bi')\n",
    "x=list(Course)\n",
    "x.insert(2,\"Tabloo\")\n",
    "Course=tuple(x)\n",
    "print(Course)"
   ]
  },
  {
   "cell_type": "code",
   "execution_count": 3,
   "id": "fa8f0462-8f16-4deb-90b9-affaeb2aa7f9",
   "metadata": {},
   "outputs": [
    {
     "name": "stdout",
     "output_type": "stream",
     "text": [
      "('SQL', 'Python', 'Mc', 'Bi')\n"
     ]
    }
   ],
   "source": [
    "#Deleting Value\n",
    "\n",
    "Course=('SQL','Python','Stats','Mc','Bi')\n",
    "a=list(Course)\n",
    "a.pop(2)\n",
    "Course=tuple(a)\n",
    "print(Course)\n",
    "\n"
   ]
  },
  {
   "cell_type": "code",
   "execution_count": 18,
   "id": "3ed78250-826f-4ce2-a774-e0e96b7f6768",
   "metadata": {},
   "outputs": [],
   "source": [
    "Course=('SQL','Python','Stats','Mc','Bi')\n",
    "C=list(Course)\n",
    "del C\n"
   ]
  },
  {
   "cell_type": "code",
   "execution_count": 20,
   "id": "26f8bc45-e084-468b-afd8-430dda027c59",
   "metadata": {},
   "outputs": [
    {
     "name": "stdout",
     "output_type": "stream",
     "text": [
      "('Python', 'Stats', 'Mc', 'Bi')\n"
     ]
    }
   ],
   "source": [
    "Course=('SQL','Python','Stats','Mc','Bi')\n",
    "y=list(Course)\n",
    "y.remove(\"SQL\")\n",
    "Course=tuple(y)\n",
    "print(Course)"
   ]
  },
  {
   "cell_type": "code",
   "execution_count": 26,
   "id": "35a2dc56-a602-412e-9379-f2a96b4b65de",
   "metadata": {},
   "outputs": [
    {
     "name": "stdout",
     "output_type": "stream",
     "text": [
      "5\n"
     ]
    }
   ],
   "source": [
    "Course=('SQL','Python','Stats','Mc','Bi')\n",
    "print(len(Course))\n"
   ]
  },
  {
   "cell_type": "code",
   "execution_count": 30,
   "id": "686ec187-4073-4953-b38b-a15c832ab137",
   "metadata": {},
   "outputs": [
    {
     "name": "stdout",
     "output_type": "stream",
     "text": [
      "['SQL', 'Python', 'Stats', 'Mc', 'Bi', 11, 22, 33, 44, 55, 66, 77, 88]\n"
     ]
    }
   ],
   "source": [
    "#Combining Lists\n",
    "\n",
    "Course=('SQL','Python','Stats','Mc','Bi')\n",
    "Numbers=(11,22,33,44,55,66,77,88)\n",
    "x=list(Course)\n",
    "y=list(Numbers)\n",
    "Abc = x.copy()\n",
    "Def = y.copy()\n",
    "Ghi = Abc + Def\n",
    "print(Ghi)\n"
   ]
  },
  {
   "cell_type": "code",
   "execution_count": 32,
   "id": "a4d5b9c8-a08c-42fc-a2cc-ae119dbcc298",
   "metadata": {},
   "outputs": [
    {
     "name": "stdout",
     "output_type": "stream",
     "text": [
      "('SQL', 'Python', 'Stats', 'Mc', 'Bi', 11, 22, 33, 44, 55, 66, 77, 88)\n"
     ]
    }
   ],
   "source": [
    "Course=('SQL','Python','Stats','Mc','Bi')\n",
    "Numbers=(11,22,33,44,55,66,77,88)\n",
    "x=list(Course)\n",
    "y=list(Numbers)\n",
    "x.extend(y)\n",
    "Teacher=tuple(x)\n",
    "print(Teacher)"
   ]
  },
  {
   "cell_type": "code",
   "execution_count": null,
   "id": "ace03638-2a3b-4e76-b255-cadf5555a88f",
   "metadata": {},
   "outputs": [],
   "source": []
  }
 ],
 "metadata": {
  "kernelspec": {
   "display_name": "Python 3 (ipykernel)",
   "language": "python",
   "name": "python3"
  },
  "language_info": {
   "codemirror_mode": {
    "name": "ipython",
    "version": 3
   },
   "file_extension": ".py",
   "mimetype": "text/x-python",
   "name": "python",
   "nbconvert_exporter": "python",
   "pygments_lexer": "ipython3",
   "version": "3.12.4"
  }
 },
 "nbformat": 4,
 "nbformat_minor": 5
}
