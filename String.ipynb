{
 "cells": [
  {
   "cell_type": "code",
   "execution_count": 1,
   "id": "e7d4f880-9e01-4d1b-9988-1b9acc487b88",
   "metadata": {},
   "outputs": [
    {
     "name": "stdout",
     "output_type": "stream",
     "text": [
      "Welcome Home\n"
     ]
    }
   ],
   "source": [
    "a=\"Welcome\"\n",
    "b=\"Home\"\n",
    "c=a+\" \"+b\n",
    "print(c)"
   ]
  },
  {
   "cell_type": "code",
   "execution_count": 7,
   "id": "f407fb02-4f5f-4f1d-9d32-e2259b7a1869",
   "metadata": {},
   "outputs": [
    {
     "name": "stdout",
     "output_type": "stream",
     "text": [
      "My name is Jatin, I am 19\n"
     ]
    }
   ],
   "source": [
    "age = 19\n",
    "txt = f\"My name is Jatin, I am {age}\"\n",
    "print(txt)"
   ]
  },
  {
   "cell_type": "code",
   "execution_count": 11,
   "id": "9ec16fee-18e2-4882-80e6-777a2d6d9c52",
   "metadata": {},
   "outputs": [
    {
     "name": "stdout",
     "output_type": "stream",
     "text": [
      "My name is Jatin,I am 19\n"
     ]
    }
   ],
   "source": [
    "a=\"Jatin\"\n",
    "b=19\n",
    "c=f\"My name is {a},I am {b}\"\n",
    "print(c)"
   ]
  },
  {
   "cell_type": "code",
   "execution_count": 15,
   "id": "d9d49f60-d03d-4a6c-8b45-2d842800936d",
   "metadata": {},
   "outputs": [
    {
     "name": "stdout",
     "output_type": "stream",
     "text": [
      "The price is 100.0000000000 dollar\n"
     ]
    }
   ],
   "source": [
    "a=100\n",
    "b=f\"The price is {a:.10f} dollar\"\n",
    "print(b)"
   ]
  },
  {
   "cell_type": "code",
   "execution_count": 19,
   "id": "b9a263cd-8f95-40f9-8d90-cb54679fe8b1",
   "metadata": {},
   "outputs": [
    {
     "name": "stdout",
     "output_type": "stream",
     "text": [
      "Say hello to my world\n"
     ]
    }
   ],
   "source": [
    "a = \"say hello to my world\"\n",
    "b= a.capitalize()\n",
    "print(b)"
   ]
  },
  {
   "cell_type": "code",
   "execution_count": 21,
   "id": "506e3dce-92d4-4350-a483-c1640da75c02",
   "metadata": {},
   "outputs": [
    {
     "name": "stdout",
     "output_type": "stream",
     "text": [
      "Say Hello To My World\n"
     ]
    }
   ],
   "source": [
    "a = \"Say hello to my world\"\n",
    "b = a.title()\n",
    "print(b)"
   ]
  },
  {
   "cell_type": "code",
   "execution_count": 23,
   "id": "3d394171-7e11-4239-a9ff-d4c2872fc52f",
   "metadata": {},
   "outputs": [
    {
     "name": "stdout",
     "output_type": "stream",
     "text": [
      "2\n"
     ]
    }
   ],
   "source": [
    "a = \"Say hello to my world and worlds\"\n",
    "b = a.count(\"world\")\n",
    "print(b)"
   ]
  },
  {
   "cell_type": "code",
   "execution_count": 25,
   "id": "4638fea0-70d9-45a7-898f-5c3affd8d609",
   "metadata": {},
   "outputs": [
    {
     "name": "stdout",
     "output_type": "stream",
     "text": [
      "0\n"
     ]
    }
   ],
   "source": [
    "a = \"Say hello to my world\"\n",
    "b = a.count(\"hello\",8,18)\n",
    "print(b)"
   ]
  },
  {
   "cell_type": "code",
   "execution_count": 27,
   "id": "81f97fcf-e7a2-4337-b062-fd4b030d4194",
   "metadata": {},
   "outputs": [
    {
     "name": "stdout",
     "output_type": "stream",
     "text": [
      "10\n"
     ]
    }
   ],
   "source": [
    "n = \"Say hello to my world\"\n",
    "b = a.find(\"to\")\n",
    "print(b)"
   ]
  },
  {
   "cell_type": "code",
   "execution_count": null,
   "id": "852a40fd-61d4-48c6-b593-426d9076ddb4",
   "metadata": {},
   "outputs": [],
   "source": []
  }
 ],
 "metadata": {
  "kernelspec": {
   "display_name": "Python 3 (ipykernel)",
   "language": "python",
   "name": "python3"
  },
  "language_info": {
   "codemirror_mode": {
    "name": "ipython",
    "version": 3
   },
   "file_extension": ".py",
   "mimetype": "text/x-python",
   "name": "python",
   "nbconvert_exporter": "python",
   "pygments_lexer": "ipython3",
   "version": "3.12.4"
  }
 },
 "nbformat": 4,
 "nbformat_minor": 5
}
