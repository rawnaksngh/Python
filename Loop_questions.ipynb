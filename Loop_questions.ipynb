{
  "cells": [
    {
      "cell_type": "code",
      "execution_count": null,
      "metadata": {
        "colab": {
          "base_uri": "https://localhost:8080/"
        },
        "id": "yYh39Sd6k6T5",
        "outputId": "8a236fed-2d6c-4edb-d372-558a63cb25ba"
      },
      "outputs": [
        {
          "output_type": "stream",
          "name": "stdout",
          "text": [
            "600\n"
          ]
        }
      ],
      "source": [
        "# Given two integer numbers, write a Python code to return their product only if the product is equal to or lower than 1000. Otherwise, return their sum.\n",
        "\n",
        "num1 = 20\n",
        "num2 = 30\n",
        "\n",
        "if num1 *num2 <=1000:\n",
        "  print(num1*num2)\n",
        "else:\n",
        "  print(num1+num2)\n",
        "\n"
      ]
    },
    {
      "cell_type": "code",
      "execution_count": null,
      "metadata": {
        "colab": {
          "base_uri": "https://localhost:8080/"
        },
        "id": "3Un22KitltEK",
        "outputId": "1ce2e0b1-fe09-4256-e74e-e3c4500573a5"
      },
      "outputs": [
        {
          "output_type": "stream",
          "name": "stdout",
          "text": [
            "70\n"
          ]
        }
      ],
      "source": [
        "numx=40\n",
        "numy=30\n",
        "if numx*numy<=1000:\n",
        "  print(numx*numy)\n",
        "else:\n",
        "  print(numx+numy)"
      ]
    },
    {
      "cell_type": "code",
      "execution_count": null,
      "metadata": {
        "colab": {
          "base_uri": "https://localhost:8080/"
        },
        "id": "TW_zv3W1l-WW",
        "outputId": "1e8a20be-a4b5-4b0e-f0a1-ebfbfc6f72d3"
      },
      "outputs": [
        {
          "output_type": "stream",
          "name": "stdout",
          "text": [
            "Current Number 0 Previous Number 0 Sum: 1\n",
            "Current Number 0 Previous Number 0 Sum: 2\n",
            "Current Number 0 Previous Number 0 Sum: 3\n",
            "Current Number 0 Previous Number 0 Sum: 4\n",
            "Current Number 0 Previous Number 0 Sum: 5\n",
            "Current Number 0 Previous Number 0 Sum: 6\n",
            "Current Number 0 Previous Number 0 Sum: 7\n",
            "Current Number 0 Previous Number 0 Sum: 8\n",
            "Current Number 0 Previous Number 0 Sum: 9\n",
            "Current Number 0 Previous Number 0 Sum: 10\n"
          ]
        }
      ],
      "source": [
        "from re import I\n",
        "# Write a Python code to iterate the first 10 numbers, and in each iteration, print the sum of the current and previous number.\n",
        "\n",
        "i = 0\n",
        "\n",
        "for x in range (1,11):\n",
        "   sum = i+x\n",
        "   print(\"Current Number\",i , \"Previous Number\",i,\"Sum:\",sum)\n",
        "\n"
      ]
    },
    {
      "cell_type": "code",
      "execution_count": null,
      "metadata": {
        "colab": {
          "base_uri": "https://localhost:8080/"
        },
        "id": "jI4uih-roY-e",
        "outputId": "22b098fc-736c-4454-c9f0-b0857269fa01"
      },
      "outputs": [
        {
          "output_type": "stream",
          "name": "stdout",
          "text": [
            "Printing current and previous number and their sum in a range(10)\n",
            "Current Number 1 Previous Number  0  Sum:  1\n",
            "Current Number 2 Previous Number  1  Sum:  3\n",
            "Current Number 3 Previous Number  2  Sum:  5\n",
            "Current Number 4 Previous Number  3  Sum:  7\n",
            "Current Number 5 Previous Number  4  Sum:  9\n",
            "Current Number 6 Previous Number  5  Sum:  11\n",
            "Current Number 7 Previous Number  6  Sum:  13\n",
            "Current Number 8 Previous Number  7  Sum:  15\n",
            "Current Number 9 Previous Number  8  Sum:  17\n",
            "Current Number 10 Previous Number  9  Sum:  19\n"
          ]
        }
      ],
      "source": [
        "print(\"Printing current and previous number and their sum in a range(10)\")\n",
        "previous_num = 0\n",
        "\n",
        "# loop from 1 to 10\n",
        "for i in range(1, 11):\n",
        "    x_sum = previous_num + i\n",
        "    print(\"Current Number\", i, \"Previous Number \", previous_num, \" Sum: \", x_sum)\n",
        "    # modify previous number\n",
        "    # set it to the current number\n",
        "    previous_num = i"
      ]
    },
    {
      "cell_type": "code",
      "execution_count": null,
      "metadata": {
        "id": "jO7BmaC6pNY0"
      },
      "outputs": [],
      "source": [
        "# Write a Python code to accept a string from the user and display characters present at an even index number.\n",
        "\n",
        "String = (input(\"Enter a string:\"))\n",
        "\n",
        "x=len(String)\n",
        "\n",
        "for i in range(0,x-1,2):\n",
        "  print(\"index[\",i,\"]\",String[i])\n"
      ]
    },
    {
      "cell_type": "code",
      "execution_count": null,
      "metadata": {
        "id": "aBU-dCFKrhx3"
      },
      "outputs": [],
      "source": [
        "# rite a Python code to remove characters from a string from 0 to n and return a new string.\n",
        "#For Example:\n",
        "\n",
        "#remove_chars(\"PYnative\", 4) so output must be tive. Here, you need to remove the first four characters from a string.\n",
        "#remove_chars(\"PYnative\", 2) so output must be native. Here, you need to remove the first two characters from a string.\n",
        "\n",
        "\n"
      ]
    },
    {
      "cell_type": "code",
      "execution_count": null,
      "metadata": {
        "id": "ex9oq5UALMP-"
      },
      "outputs": [],
      "source": [
        "num=int(input(\"Enter a number:\"))\n",
        "i=1\n",
        "while i<=10:\n",
        "  print(num*i)\n",
        "  i+=1"
      ]
    },
    {
      "cell_type": "code",
      "execution_count": null,
      "metadata": {
        "id": "eDO5In7dMcE5"
      },
      "outputs": [],
      "source": [
        "num=int(input(\"Enter a number:\"))\n",
        "L1 = [1,4,9,16,25,36,49,64,81,100]\n",
        "idx=0\n",
        "for x in L1:\n",
        "  if (x==num):\n",
        "    print(\"Found\",idx)\n",
        "    idx+=1\n",
        "    break\n",
        "\n",
        "else:\n",
        "  print(\"not found\")\n"
      ]
    },
    {
      "cell_type": "code",
      "execution_count": null,
      "metadata": {
        "id": "JRNYivsELgMU"
      },
      "outputs": [],
      "source": [
        "L1 = [1,4,9,16,25,36,49,64,81,100]\n",
        "idx=0\n",
        "while idx<len(L1):\n",
        "  print(L1[idx])\n",
        "  idx+=1"
      ]
    },
    {
      "cell_type": "code",
      "execution_count": null,
      "metadata": {
        "id": "hj1Xb3IhMcg4"
      },
      "outputs": [],
      "source": [
        "num=int(input(\"Enter a number:\"))\n",
        "L1 = (1,4,9,16,25,36,49,64,81,100)\n",
        "i=0\n",
        "while i < len(L1):\n",
        "  if (L1[i]==num):\n",
        "    print(\"Found\",i)\n",
        "  i+=1\n"
      ]
    },
    {
      "cell_type": "code",
      "execution_count": null,
      "metadata": {
        "id": "4eDN6C7oRhNz"
      },
      "outputs": [],
      "source": [
        "a=input(\"Enter a string:\")\n",
        "reverse = a[::-1]\n",
        "if (a==reverse):\n",
        "  print(\"Palindrome\")\n",
        "else:\n",
        "  print(\"Symmetrical\")"
      ]
    },
    {
      "cell_type": "code",
      "source": [
        "l=[1,2,3,4,5,6]\n",
        "x =  [(n,n**3) for n in l ]:\n",
        "  print(x)"
      ],
      "metadata": {
        "id": "Xdyr-zVNbyuz"
      },
      "execution_count": null,
      "outputs": []
    },
    {
      "cell_type": "code",
      "source": [
        "import pandas as pd"
      ],
      "metadata": {
        "id": "rzsseahQS3Mo"
      },
      "execution_count": null,
      "outputs": []
    }
  ],
  "metadata": {
    "colab": {
      "provenance": []
    },
    "kernelspec": {
      "display_name": "Python 3",
      "name": "python3"
    },
    "language_info": {
      "name": "python"
    }
  },
  "nbformat": 4,
  "nbformat_minor": 0
}