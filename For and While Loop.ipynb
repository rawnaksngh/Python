{
 "cells": [
  {
   "cell_type": "code",
   "execution_count": 1,
   "id": "139a2765-fc01-46f2-9b89-bca12213d3ad",
   "metadata": {},
   "outputs": [
    {
     "name": "stdin",
     "output_type": "stream",
     "text": [
      "Enter a number: 5\n"
     ]
    },
    {
     "name": "stdout",
     "output_type": "stream",
     "text": [
      "Factorial of a number 120\n"
     ]
    }
   ],
   "source": [
    "#Factorial\n",
    "sum = int(input(\"Enter a number:\"))\n",
    "x=1\n",
    "for i in range(1,sum+1):\n",
    "    x=x*i\n",
    "print(\"Factorial of a number\",x)"
   ]
  },
  {
   "cell_type": "code",
   "execution_count": 3,
   "id": "49c32e10-6190-40e2-b4a4-7921ef992569",
   "metadata": {},
   "outputs": [
    {
     "name": "stdin",
     "output_type": "stream",
     "text": [
      "enter a number: 543\n"
     ]
    },
    {
     "name": "stdout",
     "output_type": "stream",
     "text": [
      "345\n"
     ]
    }
   ],
   "source": [
    "x=int(input(\"enter a number:\"))\n",
    "y=0\n",
    "while x>1:\n",
    "    y=(y*10)+(x%10)\n",
    "    x=x//10\n",
    "print(y)"
   ]
  },
  {
   "cell_type": "code",
   "execution_count": 13,
   "id": "c3b9617e-f873-4eac-b280-79e8c64fbd01",
   "metadata": {},
   "outputs": [
    {
     "name": "stdin",
     "output_type": "stream",
     "text": [
      "enter a number: 5\n"
     ]
    },
    {
     "name": "stdout",
     "output_type": "stream",
     "text": [
      "120\n"
     ]
    }
   ],
   "source": [
    "x=int(input(\"enter a number:\"))\n",
    "y=1\n",
    "for i in range (1,x+1):\n",
    "    y = y*i\n",
    "print(y)\n",
    "    "
   ]
  },
  {
   "cell_type": "code",
   "execution_count": 7,
   "id": "b7436700-5067-476a-86b0-e5f752e6dfc8",
   "metadata": {},
   "outputs": [
    {
     "name": "stdin",
     "output_type": "stream",
     "text": [
      "enter a number: 5\n"
     ]
    },
    {
     "name": "stdout",
     "output_type": "stream",
     "text": [
      "factorial 120\n"
     ]
    }
   ],
   "source": [
    "x=int(input(\"enter a number:\"))\n",
    "y=1\n",
    "for i in range (1,x+1):\n",
    "    y*=i\n",
    "print(\"factorial\",y) \n",
    "    "
   ]
  },
  {
   "cell_type": "code",
   "execution_count": null,
   "id": "0e6e357b-dc29-4726-9b27-21b7f2529977",
   "metadata": {},
   "outputs": [],
   "source": [
    "a=int(input(\"enter a number:\"))\n",
    "z=1\n",
    "for x in range (1,1+a):\n",
    "    z=z*x\n",
    "print(\"Factorial Number:\",z)"
   ]
  },
  {
   "cell_type": "code",
   "execution_count": null,
   "id": "d886e536-d884-4732-ab76-15fdf57b9fc4",
   "metadata": {},
   "outputs": [],
   "source": [
    "ab=int(input(\"enter a number:\"))\n",
    "e=1\n",
    "for y in range(1,ab+1):\n",
    "    e=e*y\n",
    "print(e)"
   ]
  },
  {
   "cell_type": "code",
   "execution_count": 3,
   "id": "31053c2f-ff7d-4de7-9365-a5e600faf6f1",
   "metadata": {},
   "outputs": [
    {
     "name": "stdin",
     "output_type": "stream",
     "text": [
      "enter a number: 5\n"
     ]
    },
    {
     "name": "stdout",
     "output_type": "stream",
     "text": [
      "Factorial 120\n"
     ]
    }
   ],
   "source": [
    "n=int(input(\"enter a number:\"))\n",
    "x=1\n",
    "while n>=1:\n",
    "    x=x*n\n",
    "    n=n-1\n",
    "print(\"Factorial\",x)\n"
   ]
  },
  {
   "cell_type": "code",
   "execution_count": null,
   "id": "73fc1710-bd02-44ff-91d3-a80b7e507b01",
   "metadata": {},
   "outputs": [],
   "source": [
    "h=int(input(\"number:\"))\n",
    "x=1\n",
    "while h>=1:\n",
    "    x=h*x\n",
    "    h=h+1\n",
    "print(x)"
   ]
  },
  {
   "cell_type": "code",
   "execution_count": null,
   "id": "6dbc0df5-c511-4fcb-88fd-6dcf2bdd4a62",
   "metadata": {},
   "outputs": [],
   "source": [
    "#Prime Number\n",
    "\n",
    "x=int(input(\"Enter a number:\"))\n",
    "\n",
    "if x==0 or x==1:\n",
    "    print(\"is not a prime number\")\n",
    "elif x>1:\n",
    "    for i in range(2,x):\n",
    "        if (x%i)==0:\n",
    "            print(\"is not a prime number\")\n",
    "            break\n",
    "    else:\n",
    "        print(\"is a prime number\")\n",
    "else:\n",
    "    print(x,\"is a prime number\")\n",
    "\n",
    "\n"
   ]
  },
  {
   "cell_type": "code",
   "execution_count": 11,
   "id": "d2e0dbe2-ead5-42ed-9209-b2c1682d6dde",
   "metadata": {},
   "outputs": [
    {
     "name": "stdin",
     "output_type": "stream",
     "text": [
      "enter a number: 3\n"
     ]
    },
    {
     "name": "stdout",
     "output_type": "stream",
     "text": [
      "prime number\n"
     ]
    }
   ],
   "source": [
    "x=int(input(\"enter a number:\"))\n",
    "if x==0 & x==1:\n",
    "    print('not a prime number')\n",
    "elif x>1:\n",
    "    if (x%2)==0:\n",
    "        print('not a prime number')\n",
    "    else:\n",
    "        print('prime number')\n",
    "else:\n",
    "    print('prime number')"
   ]
  },
  {
   "cell_type": "code",
   "execution_count": null,
   "id": "9353783c-d06a-43a9-bf77-ebe1e83a6b58",
   "metadata": {},
   "outputs": [],
   "source": [
    "x=int(input(\"number\"))\n",
    "if x==0 or x==1:\n",
    "    print(\"x is not\")\n",
    "elif:\n",
    "    for y in range (2,x):\n",
    "        if(x%y)==0:\n",
    "            print(\"x is not\")\n",
    "            break\n",
    "    else:\n",
    "        print(\"is a prime number\")\n",
    "else:\n",
    "    print(\"is a prime number\")\n"
   ]
  },
  {
   "cell_type": "code",
   "execution_count": 15,
   "id": "265f61b5-4bac-4529-b397-9fd272973632",
   "metadata": {},
   "outputs": [
    {
     "name": "stdin",
     "output_type": "stream",
     "text": [
      "enter a number: 1234\n"
     ]
    },
    {
     "name": "stdout",
     "output_type": "stream",
     "text": [
      "reverse of given number 4321\n"
     ]
    }
   ],
   "source": [
    "y=int(input(\"enter a number:\"))\n",
    "x=0\n",
    "while (y>0):\n",
    "    x=(x*10)+y%10\n",
    "    y=y//10\n",
    "print(\"reverse of given number\",x)"
   ]
  },
  {
   "cell_type": "code",
   "execution_count": 23,
   "id": "5d1fbba3-f1d6-4bc2-a367-5ba41608224d",
   "metadata": {},
   "outputs": [
    {
     "name": "stdin",
     "output_type": "stream",
     "text": [
      "enter a number: 7549327465\n"
     ]
    },
    {
     "name": "stdout",
     "output_type": "stream",
     "text": [
      "5647239457\n"
     ]
    }
   ],
   "source": [
    "x=int(input('enter a number:'))\n",
    "y=0\n",
    "while x>1:\n",
    "    y=(y*10)+(x%10)\n",
    "    x=x//10\n",
    "print(y)"
   ]
  },
  {
   "cell_type": "code",
   "execution_count": null,
   "id": "f48b4113-6fb3-4f6a-83d6-250a852a50fd",
   "metadata": {},
   "outputs": [],
   "source": [
    "l=int(input(\"a number\"))\n",
    "c=0\n",
    "while (l>1):\n",
    "    c=(c*10)+(l%10)\n",
    "    l=l//10\n",
    "print(\"reverse is here\",c)"
   ]
  },
  {
   "cell_type": "code",
   "execution_count": null,
   "id": "3ae78428-4299-40ba-85a5-c1e15276dbd5",
   "metadata": {},
   "outputs": [],
   "source": [
    "#pallendrom\n",
    "a=int(input(\"enter a number:\"))\n",
    "v=a\n",
    "c=0\n",
    "while (a>0):\n",
    "    c=c*10 + a%10\n",
    "    a=a//10\n",
    "if (v==c):\n",
    "    print(\"Given number is palindrome\")\n",
    "else:\n",
    "    print(\"Given number is not palindrome\")"
   ]
  },
  {
   "cell_type": "code",
   "execution_count": 27,
   "id": "b5ec86df-f0f4-4c4d-b5f9-727eb479db8f",
   "metadata": {},
   "outputs": [
    {
     "name": "stdin",
     "output_type": "stream",
     "text": [
      "enter a number: 1221\n"
     ]
    },
    {
     "name": "stdout",
     "output_type": "stream",
     "text": [
      "given number is palindrome\n"
     ]
    }
   ],
   "source": [
    "a=int(input('enter a number:'))\n",
    "x=a\n",
    "y=0\n",
    "while (a>0):\n",
    "    y=(y*10)+(a%10)\n",
    "    a=a//10\n",
    "if (x==y):\n",
    "    print('given number is palindrome')\n",
    "else:\n",
    "    print('given number is not palindrome')"
   ]
  },
  {
   "cell_type": "code",
   "execution_count": null,
   "id": "6e520d6c-a6b6-4c0f-8878-e91180974be8",
   "metadata": {},
   "outputs": [],
   "source": [
    "h=int(input(\"number:\"))\n",
    "v=0\n",
    "c=h\n",
    "while (h>1):\n",
    "    v=v*10+h%10\n",
    "    h=h//10\n",
    "if (c==v):\n",
    "    print(\"is plindrome\")\n",
    "else:\n",
    "    print(\"is not\")\n",
    "    "
   ]
  },
  {
   "cell_type": "code",
   "execution_count": 21,
   "id": "7cc0b3e7-fadd-4412-8056-ace6ac71c5a3",
   "metadata": {},
   "outputs": [
    {
     "name": "stdin",
     "output_type": "stream",
     "text": [
      "enter a number 153\n"
     ]
    },
    {
     "name": "stdout",
     "output_type": "stream",
     "text": [
      "Number is armstrong\n"
     ]
    }
   ],
   "source": [
    "#Armstrong\n",
    "n=int(input(\"enter a number\"))\n",
    "x=n\n",
    "z=0\n",
    "while (n>0):\n",
    "    z=z+(n%10)*(n%10)*(n%10)\n",
    "    n=n//10\n",
    "if x==z:\n",
    "    print(\"Number is armstrong\")\n",
    "else:\n",
    "    print(\"Number is not armstrong\")"
   ]
  },
  {
   "cell_type": "code",
   "execution_count": 27,
   "id": "e32a16be-8f31-4ed2-aa18-53351e7b0a58",
   "metadata": {},
   "outputs": [
    {
     "name": "stdin",
     "output_type": "stream",
     "text": [
      "enter a number: 153\n"
     ]
    },
    {
     "name": "stdout",
     "output_type": "stream",
     "text": [
      "Ooooooo\n"
     ]
    }
   ],
   "source": [
    "x=int(input(\"enter a number:\"))\n",
    "y=0\n",
    "z=x\n",
    "while x>0:\n",
    "    y = y+(x%10)*(x%10)*(x%10)\n",
    "    x= x//10\n",
    "if z==y:\n",
    "    print('Ooooooo')\n",
    "else:\n",
    "    print('Aaaaa')"
   ]
  },
  {
   "cell_type": "code",
   "execution_count": 7,
   "id": "ec854bf2-6355-4fb0-bba4-a567adc9bec0",
   "metadata": {},
   "outputs": [
    {
     "name": "stdin",
     "output_type": "stream",
     "text": [
      "enter a number 10\n"
     ]
    },
    {
     "name": "stdout",
     "output_type": "stream",
     "text": [
      "*\n",
      "**\n",
      "***\n",
      "****\n",
      "*****\n",
      "******\n",
      "*******\n",
      "********\n",
      "*********\n",
      "**********\n"
     ]
    }
   ],
   "source": [
    "ak=int(input(\"enter a number\"))\n",
    "for i in range (1,ak+1):\n",
    "    for j in range (1,i+1):\n",
    "        print(\"*\",end=\"\")\n",
    "    print()\n",
    "        "
   ]
  },
  {
   "cell_type": "code",
   "execution_count": 22,
   "id": "fd2c024e-81b8-49d6-9a42-8a73418d295f",
   "metadata": {},
   "outputs": [
    {
     "name": "stdin",
     "output_type": "stream",
     "text": [
      "enter a number 5\n"
     ]
    },
    {
     "name": "stdout",
     "output_type": "stream",
     "text": [
      "*\n",
      "**\n",
      "***\n",
      "****\n",
      "*****\n"
     ]
    }
   ],
   "source": [
    "num=int(input(\"enter a number\"))\n",
    "for i in range(1,num+1):\n",
    "       for j in range(1,i+1):\n",
    "          print(\"*\",end=\"\")\n",
    "       print()"
   ]
  },
  {
   "cell_type": "code",
   "execution_count": null,
   "id": "1e6599ae-c1f2-4a1a-b64a-5b2c312ab9ea",
   "metadata": {},
   "outputs": [],
   "source": [
    "x=int(input('enter number:'))\n",
    "for i in range (1,x+1):\n",
    "    for y in range (1,i+1):\n",
    "        print('*',end='')"
   ]
  },
  {
   "cell_type": "code",
   "execution_count": null,
   "id": "09c15b70-4013-4deb-8665-89de897e8aea",
   "metadata": {},
   "outputs": [],
   "source": [
    "# a function is a block of code which only runs when it is called.\n",
    "# a function help in organizing code."
   ]
  },
  {
   "cell_type": "code",
   "execution_count": 11,
   "id": "7b2dacb7-797a-4663-9a2e-094533cf82f4",
   "metadata": {},
   "outputs": [
    {
     "name": "stdout",
     "output_type": "stream",
     "text": [
      "Hello from a function\n"
     ]
    }
   ],
   "source": [
    "# a function is defined using the def keyword\n",
    "def my_function():\n",
    "    print(\"Hello from a function\")\n",
    "\n",
    "my_function()\n"
   ]
  },
  {
   "cell_type": "code",
   "execution_count": 9,
   "id": "d21bc66c-8717-454b-9c68-5701b58c4e89",
   "metadata": {},
   "outputs": [
    {
     "name": "stdout",
     "output_type": "stream",
     "text": [
      "Hello\n"
     ]
    }
   ],
   "source": [
    "#calling function\n",
    "def my_function():\n",
    "    print(\"Hello\")\n",
    "\n",
    "my_function()"
   ]
  },
  {
   "cell_type": "code",
   "execution_count": 25,
   "id": "e4867c89-ba59-4016-ae66-eb64fd92d074",
   "metadata": {},
   "outputs": [
    {
     "name": "stdout",
     "output_type": "stream",
     "text": [
      "Donaldjain\n"
     ]
    }
   ],
   "source": [
    "#Arguments \n",
    "\n",
    "def my_function(fname):\n",
    "    print(fname+\"jain\")\n",
    "\n",
    "my_function(\"Donald\")"
   ]
  },
  {
   "cell_type": "code",
   "execution_count": 27,
   "id": "b77f35eb-b357-449b-852e-ca874557ee1b",
   "metadata": {},
   "outputs": [
    {
     "name": "stdout",
     "output_type": "stream",
     "text": [
      "burshit son of Donald jain\n"
     ]
    }
   ],
   "source": [
    "my_function(\"burshit son of Donald \")"
   ]
  },
  {
   "cell_type": "code",
   "execution_count": 35,
   "id": "5a6a985f-3947-4158-99ed-cf0c5bd17683",
   "metadata": {},
   "outputs": [
    {
     "data": {
      "text/plain": [
       "(69, 1)"
      ]
     },
     "execution_count": 35,
     "metadata": {},
     "output_type": "execute_result"
    }
   ],
   "source": [
    "def add(a,b):\n",
    "    return (a+b,b)\n",
    "\n",
    "add(68,1)"
   ]
  },
  {
   "cell_type": "code",
   "execution_count": 33,
   "id": "a73d21a7-5c85-409c-b45e-6db2072592df",
   "metadata": {},
   "outputs": [
    {
     "data": {
      "text/plain": [
       "8"
      ]
     },
     "execution_count": 33,
     "metadata": {},
     "output_type": "execute_result"
    }
   ],
   "source": [
    "add(3,5)"
   ]
  },
  {
   "cell_type": "code",
   "execution_count": 37,
   "id": "d20de0e2-c28b-475f-aa1d-84fd9ee7fc1c",
   "metadata": {},
   "outputs": [
    {
     "name": "stdout",
     "output_type": "stream",
     "text": [
      "the number is even\n"
     ]
    }
   ],
   "source": [
    "def even_odd(num):\n",
    "    if num%2==0:\n",
    "        print(\"the number is even\")\n",
    "    else:\n",
    "        print(\"the number is odd\")\n",
    "\n",
    "even_odd(2)"
   ]
  },
  {
   "cell_type": "code",
   "execution_count": 39,
   "id": "f16484ea-53dc-4db8-aab5-91e5f638403e",
   "metadata": {},
   "outputs": [
    {
     "name": "stdout",
     "output_type": "stream",
     "text": [
      "the number is even\n"
     ]
    }
   ],
   "source": [
    "even_odd(5437658)"
   ]
  },
  {
   "cell_type": "code",
   "execution_count": null,
   "id": "8dc67aa3-0c79-491b-bbe0-49df886cc241",
   "metadata": {},
   "outputs": [],
   "source": []
  }
 ],
 "metadata": {
  "kernelspec": {
   "display_name": "Python 3 (ipykernel)",
   "language": "python",
   "name": "python3"
  },
  "language_info": {
   "codemirror_mode": {
    "name": "ipython",
    "version": 3
   },
   "file_extension": ".py",
   "mimetype": "text/x-python",
   "name": "python",
   "nbconvert_exporter": "python",
   "pygments_lexer": "ipython3",
   "version": "3.12.4"
  }
 },
 "nbformat": 4,
 "nbformat_minor": 5
}
